{
 "cells": [
  {
   "cell_type": "markdown",
   "metadata": {},
   "source": [
    "# **Objectives of analysis**\n",
    "\n",
    "As an international student without a driving license, I believe I would have to rely on TTC to get around the city and that implies I do not live outside the City of Toronto.\n",
    "\n",
    "> **Constraint: which TTC station should I live around?**\n",
    "\n",
    "But within the area, where should I live?\n",
    "\n",
    "### Common factors to consider include:\n",
    "1. **Neighbourhood safety**\n",
    "    - Existing solution:\n",
    "        - Toronto Police Services [Power BI dashboard](https://app.powerbi.com/view?r=eyJrIjoiNTAwOTNkMTYtOWQwNS00Y2M3LWJkODAtNDU1NjNkZTg1YWVkIiwidCI6Ijg1MjljMjI1LWFjNDMtNDc0Yy04ZmI0LTBmNDA5NWFlOGQ1ZCIsImMiOjN9) [Screenshots below [Existing Solutions](#existing-solutions)]\n",
    "    - We can look into the various datasets provided by \n",
    "        - Toroto Police Services - [Public Safety Data Portal](https://data.torontopolice.on.ca/)\n",
    "        - City of Toronto - [Open Data Portal](https://open.toronto.ca/)\n",
    "        - All of the above materials are licensed under the [Open Government License - Toronto](https://open.toronto.ca/open-data-license/)\n",
    "2. **Accessibility**\n",
    "    - Existing Solution:\n",
    "        - Realtor.CA neighbourhood [overview](https://www.realtor.ca/) [Screenshots below [Existing Solutions](#existing-solutions)]\n",
    "    - We can measure the commute time and / or distance to a destination with the help of \n",
    "        - Google map or other location services\n",
    "    - Limitation: \n",
    "        - Requesting commute time between locations requires access to Google's paid API services\n",
    "        - Commute time can vary depending on the time of departure and mode of transit,\n",
    "            - e.g. it may only take 45min to take the train departing at 8:30am but if you miss the train, you will spend 1hr30min on bus\n",
    "    - Solution: measure **distance** between locations instead (calculated using longitude and latitude)\n",
    "3. **Affordability**\n",
    "    - Existing Solution:\n",
    "        - Toronto Regional Real Estate Board (TRREB) [search engine](https://onlistings.trreb.ca/searchlistings#search/d17c8105b8d19ca9a20f2d67/filters) [Screenshot below [Existing Solutions](#existing-solutions)]\n",
    "    - Limitation: scraping information from the **search engine** real estate websites is often *prohibited by the copywright clause* under the terms of use\n",
    "    > E.g. Realtor.ca's [terms of use](https://www.realtor.ca/terms-of-use) explicitly states that **scraping** and any other activity intended to collect, store, reorganize or manipulate data on the pages produced by, or displayed on the CREA websites are prohibited\n",
    "    - Solution: scraping information from **public quarterly reports** published by Toronto Regional Real Estate Board (TRREB)\n",
    "        - Loss in granularity: data is only available per MLS region but not per transaction or per listing"
   ]
  },
  {
   "cell_type": "markdown",
   "metadata": {},
   "source": [
    "# *Limitations of existing solutions*\n",
    "- **Existing solutions only allow analysis in 1 angle at a time**, and it is difficult to combine data from multiple sources to achieve a unified understanding \n",
    "\n",
    "- **1st consideration: affordability** / Secondary considerations: safety, commute time\n",
    "    - Filter for real estate listings within a price range\n",
    "        - Then check each listing to look at its surrounding neighbourhoods to see if it is safe and accessible\n",
    "- **1st consideration: safety** / Secondary considerations: commute time, affordability\n",
    "    - Avoid the neighbourhoods with the highest crime rates\n",
    "        - then only focus on the listings you can afford within the areas you consider to be safe and accessible\n",
    "- **1st consideration: accessibility** / Secondary considerations: affordability, safety\n",
    "    - First look at listings in areas that are close to work / school\n",
    "        - then check if affordable or safe to live in\n",
    "\n",
    "## The following study aims to achieve\n",
    "> ### *A balance between all 3 factors **simultaneously** in a quantitative manner*"
   ]
  },
  {
   "cell_type": "markdown",
   "metadata": {},
   "source": [
    "# Existing solutions\n",
    "\n",
    "Toronto Regional Real Estate Board (TRREB) [search engine](https://onlistings.trreb.ca/searchlistings#search/d17c8105b8d19ca9a20f2d67/filters)\n",
    "- <img src=\"../data/image/2022-04-02-17-52-51.png\">\n",
    "\n",
    "Realtor.CA neighbourhood [overview](https://www.realtor.ca/)\n",
    "- <img src=\"../data/image/2022-04-02-17-54-06.png\">\n",
    "\n",
    "Toronto Police Services [Power BI dashboard](https://app.powerbi.com/view?r=eyJrIjoiNTAwOTNkMTYtOWQwNS00Y2M3LWJkODAtNDU1NjNkZTg1YWVkIiwidCI6Ijg1MjljMjI1LWFjNDMtNDc0Yy04ZmI0LTBmNDA5NWFlOGQ1ZCIsImMiOjN9)\n",
    "- <img src=\"../data/image/2022-04-02-17-54-34.png\">"
   ]
  }
 ],
 "metadata": {
  "language_info": {
   "name": "python"
  },
  "orig_nbformat": 4
 },
 "nbformat": 4,
 "nbformat_minor": 2
}
