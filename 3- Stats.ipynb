{
 "cells": [
  {
   "cell_type": "markdown",
   "metadata": {},
   "source": [
    "sampling methods\n",
    "- simple random sampling\n",
    "- stratified random sampling\n",
    "- cluster sampling\n",
    "- systematic sampling\n",
    "- convenience sampling\n",
    "- judgement sampling"
   ]
  },
  {
   "cell_type": "markdown",
   "metadata": {},
   "source": [
    "Hypothesis testing\n",
    "- null and alternative\n",
    "- reject null -> type I error (alpha)\n",
    "- accept null -> type II error (beta)\n",
    "- random sample / matched sample\n",
    "- test of independence"
   ]
  },
  {
   "cell_type": "markdown",
   "metadata": {},
   "source": [
    "ANOVA\n",
    "- comparing means\n",
    "- bonferroni correction and other techniques for correcting error rates\n",
    "- randomized block design\n",
    "- 2-factor design"
   ]
  },
  {
   "cell_type": "markdown",
   "metadata": {},
   "source": [
    "Linear regression\n",
    "- 5 assumptions of linear regression\n",
    "- significance: t test and F test\n",
    "    - caution: no casual relationship / extrapolation\n",
    "- residuals plots\n",
    "- check for outlier and influential observation\n",
    "    - remove to see impact\n",
    "    - leverage and cook's distance\n",
    "- check for multicollinearity"
   ]
  },
  {
   "cell_type": "markdown",
   "metadata": {},
   "source": []
  }
 ],
 "metadata": {
  "language_info": {
   "name": "python"
  },
  "orig_nbformat": 4
 },
 "nbformat": 4,
 "nbformat_minor": 2
}
