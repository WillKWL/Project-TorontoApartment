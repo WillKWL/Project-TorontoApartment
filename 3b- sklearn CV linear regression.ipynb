{
 "cells": [
  {
   "cell_type": "markdown",
   "metadata": {},
   "source": [
    "https://www.kaggle.com/code/jnikhilsai/cross-validation-with-linear-regression/notebook#3.-Cross-Validation:-A-Quick-Recap "
   ]
  },
  {
   "cell_type": "markdown",
   "metadata": {},
   "source": [
    "<img src=\"./source/img/2022-05-18-21-02-01.png\">\n",
    "<img src=\"./source/img/2022-05-18-21-02-49.png\">"
   ]
  },
  {
   "cell_type": "code",
   "execution_count": null,
   "metadata": {},
   "outputs": [],
   "source": []
  }
 ],
 "metadata": {
  "language_info": {
   "name": "python"
  },
  "orig_nbformat": 4
 },
 "nbformat": 4,
 "nbformat_minor": 2
}
